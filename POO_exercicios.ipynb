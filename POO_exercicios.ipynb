{
  "nbformat": 4,
  "nbformat_minor": 0,
  "metadata": {
    "colab": {
      "name": "OOP.ipynb",
      "provenance": [],
      "include_colab_link": true
    },
    "kernelspec": {
      "name": "python3",
      "display_name": "Python 3"
    },
    "language_info": {
      "name": "python"
    }
  },
  "cells": [
    {
      "cell_type": "markdown",
      "metadata": {
        "id": "view-in-github",
        "colab_type": "text"
      },
      "source": [
        "<a href=\"https://colab.research.google.com/github/barroscruzc/learning_python/blob/main/POO_exercicios.ipynb\" target=\"_parent\"><img src=\"https://colab.research.google.com/assets/colab-badge.svg\" alt=\"Open In Colab\"/></a>"
      ]
    },
    {
      "cell_type": "markdown",
      "metadata": {
        "id": "kSnECJ8JxbCu"
      },
      "source": [
        "#POO -  Programação Orientada a Objetos "
      ]
    },
    {
      "cell_type": "markdown",
      "metadata": {
        "id": "0nCCFOpexq_X"
      },
      "source": [
        "**Classe Bola: Crie uma classe que modele uma bola:**\n",
        "1. Atributos: Cor, circunferência, material\n",
        "2. Métodos: trocaCor e mostraCor\n",
        "\n"
      ]
    },
    {
      "cell_type": "code",
      "metadata": {
        "id": "WwJHQsnoxXIj"
      },
      "source": [
        ""
      ],
      "execution_count": null,
      "outputs": []
    },
    {
      "cell_type": "markdown",
      "metadata": {
        "id": "GHlTXTq_yVKi"
      },
      "source": [
        "**Classe Quadrado: Crie uma classe que modele um quadrado:**\n",
        "1. Atributos: Tamanho do lado\n",
        "2. Métodos: Mudar valor do Lado, Retornar valor do Lado e calcular Área;\n"
      ]
    },
    {
      "cell_type": "code",
      "metadata": {
        "id": "q2RhHzFjyZ5j"
      },
      "source": [
        ""
      ],
      "execution_count": null,
      "outputs": []
    },
    {
      "cell_type": "markdown",
      "metadata": {
        "id": "r6qRkNM0yhp5"
      },
      "source": [
        "**Classe Retangulo: Crie uma classe que modele um retangulo:**\n",
        "1. Atributos: LadoA, LadoB (ou Comprimento e Largura, ou Base e Altura, a escolher)\n",
        "2. Métodos: Mudar valor dos lados, Retornar valor dos lados, calcular Área e calcular Perímetro;\n",
        "3. Crie um programa que utilize esta classe. Ele deve pedir ao usuário que informe as medidades de um local. Depois, deve criar um objeto com as medidas e calcular a quantidade de pisos e de rodapés necessárias para o local.\n"
      ]
    },
    {
      "cell_type": "code",
      "metadata": {
        "id": "9Pb_wsUcys1S"
      },
      "source": [
        ""
      ],
      "execution_count": null,
      "outputs": []
    },
    {
      "cell_type": "markdown",
      "metadata": {
        "id": "KXBM-DFCyteB"
      },
      "source": [
        "**Classe Pessoa: Crie uma classe que modele uma pessoa:**\n",
        "1. Atributos: nome, idade, peso e altura\n",
        "2. Métodos: Envelhercer, engordar, emagrecer, crescer. Obs: Por padrão, a cada ano que nossa pessoa envelhece, sendo a idade dela menor que 21 anos, ela deve crescer 0,5 cm."
      ]
    },
    {
      "cell_type": "code",
      "metadata": {
        "id": "5U8gWuKoy0NL"
      },
      "source": [
        ""
      ],
      "execution_count": null,
      "outputs": []
    },
    {
      "cell_type": "markdown",
      "metadata": {
        "id": "W2OmPreJy1FA"
      },
      "source": [
        "**Classe Conta Corrente: Crie uma classe para implementar uma conta corrente. A classe deve possuir os seguintes atributos: número da conta, nome do correntista e saldo. Os métodos são os seguintes: alterarNome, depósito e saque; No construtor, saldo é opcional, com valor default zero e os demais atributos são obrigatórios.**"
      ]
    },
    {
      "cell_type": "code",
      "metadata": {
        "id": "yttpbjlAy4gj"
      },
      "source": [
        ""
      ],
      "execution_count": null,
      "outputs": []
    },
    {
      "cell_type": "markdown",
      "metadata": {
        "id": "iBmyXl6xy5A5"
      },
      "source": [
        "**Classe TV: Faça um programa que simule um televisor criando-o como um objeto. O usuário deve ser capaz de informar o número do canal e aumentar ou diminuir o volume. Certifique-se de que o número do canal e o nível do volume permanecem dentro de faixas válidas.**"
      ]
    },
    {
      "cell_type": "code",
      "metadata": {
        "id": "Swr4oRCUy7mG"
      },
      "source": [
        ""
      ],
      "execution_count": null,
      "outputs": []
    },
    {
      "cell_type": "markdown",
      "metadata": {
        "id": "Q5F2FENAy8PX"
      },
      "source": [
        "**Classe Bichinho Virtual:Crie uma classe que modele um Tamagushi (Bichinho Eletrônico):**\n",
        "\n",
        "1. Atributos: Nome, Fome, Saúde e Idade b. Métodos: Alterar Nome, Fome, Saúde e Idade; Retornar Nome, Fome, Saúde e Idade Obs: Existe mais uma informação que devemos levar em consideração, o Humor do nosso tamagushi, este humor é uma combinação entre os atributos Fome e Saúde, ou seja, um campo calculado, então não devemos criar um atributo para armazenar esta informação por que ela pode ser calculada a qualquer momento."
      ]
    },
    {
      "cell_type": "code",
      "metadata": {
        "id": "5BMpjko0zIHk"
      },
      "source": [
        ""
      ],
      "execution_count": null,
      "outputs": []
    },
    {
      "cell_type": "markdown",
      "metadata": {
        "id": "QafrCFunzIzP"
      },
      "source": [
        "**Classe Macaco: Desenvolva uma classe Macaco,que possua os atributos nome e bucho (estomago) e pelo menos os métodos comer(), verBucho() e digerir(). Faça um programa ou teste interativamente, criando pelo menos dois macacos, alimentando-os com pelo menos 3 alimentos diferentes e verificando o conteúdo do estomago a cada refeição. Experimente fazer com que um macaco coma o outro. É possível criar um macaco canibal?**"
      ]
    },
    {
      "cell_type": "code",
      "metadata": {
        "id": "cnt6XW0TzMYd"
      },
      "source": [
        ""
      ],
      "execution_count": null,
      "outputs": []
    },
    {
      "cell_type": "markdown",
      "metadata": {
        "id": "58I6f_5EzM59"
      },
      "source": [
        "**Classe Ponto e Retangulo: Faça um programa completo utilizando funções e classes que:**\n",
        "1. Possua uma classe chamada Ponto, com os atributos x e y.\n",
        "2. Possua uma classe chamada Retangulo, com os atributos largura e altura.\n",
        "3. Possua uma função para imprimir os valores da classe Ponto\n",
        "4. Possua uma função para encontrar o centro de um Retângulo.\n",
        "5. Você deve criar alguns objetos da classe Retangulo.\n",
        "6. Cada objeto deve ter um vértice de partida, por exemplo, o vértice inferior esquerdo do retângulo, que deve ser um objeto da classe Ponto.\n",
        "7. A função para encontrar o centro do retângulo deve retornar o valor para um objeto do tipo ponto que indique os valores de x e y para o centro do objeto.\n",
        "8. O valor do centro do objeto deve ser mostrado na tela\n",
        "9. Crie um menu para alterar os valores do retângulo e imprimir o centro deste retângulo."
      ]
    },
    {
      "cell_type": "code",
      "metadata": {
        "id": "KpYNYQfpzb0y"
      },
      "source": [
        ""
      ],
      "execution_count": null,
      "outputs": []
    },
    {
      "cell_type": "markdown",
      "metadata": {
        "id": "b-p0hcntzciP"
      },
      "source": [
        "**Classe Bomba de Combustível: Faça um programa completo utilizando classes e métodos que:**\n",
        "1. Possua uma classe chamada bombaCombustível, com no mínimo esses atributos:\n",
        "* tipoCombustivel.\n",
        "* valorLitro\n",
        "* quantidadeCombustivel\n",
        "2. Possua no mínimo esses métodos:\n",
        "* abastecerPorValor( ) – método onde é informado o valor a ser abastecido e mostra a quantidade de litros que foi colocada no veículo\n",
        "* abastecerPorLitro( ) – método onde é informado a quantidade em litros de combustível e mostra o valor a ser pago pelo cliente.\n",
        "* alterarValor( ) – altera o valor do litro do combustível.\n",
        "* alterarCombustivel( ) – altera o tipo do combustível.\n",
        "* alterarQuantidadeCombustivel( ) – altera a quantidade de combustível restante na bomba.\n",
        "\n",
        "*OBS: Sempre que acontecer um abastecimento é necessário atualizar a quantidade de combustível total na bomba.*"
      ]
    },
    {
      "cell_type": "code",
      "metadata": {
        "id": "CDxb6ALuz0xo"
      },
      "source": [
        ""
      ],
      "execution_count": null,
      "outputs": []
    },
    {
      "cell_type": "markdown",
      "metadata": {
        "id": "RE8OBp9mz3MK"
      },
      "source": [
        "**Classe carro: Implemente uma classe chamada Carro com as seguintes propriedades:**\n",
        "\n",
        "1. Um veículo tem um certo consumo de combustível (medidos em km / litro) e uma certa quantidade de combustível no tanque.\n",
        "2. O consumo é especificado no construtor e o nível de combustível inicial é 0.\n",
        "3. Forneça um método andar( ) que simule o ato de dirigir o veículo por uma certa distância, reduzindo o nível de combustível no tanque de gasolina.\n",
        "4. Forneça um método obterGasolina( ), que retorna o nível atual de combustível.\n",
        "5. Forneça um método adicionarGasolina( ), para abastecer o tanque. Exemplo de uso:\n",
        "\n",
        "```\n",
        "      meuFusca = Carro(15);           # 15 quilômetros por litro de combustível. \n",
        "      meuFusca.adicionarGasolina(20); # abastece com 20 litros de combustível. \n",
        "      meuFusca.andar(100);            # anda 100 quilômetros.\n",
        "      meuFusca.obterGasolina()        # Imprime o combustível que resta no tanque.\n",
        "```\n",
        "\n",
        "\n"
      ]
    },
    {
      "cell_type": "code",
      "metadata": {
        "id": "URHnfKy40OsX"
      },
      "source": [
        ""
      ],
      "execution_count": null,
      "outputs": []
    },
    {
      "cell_type": "markdown",
      "metadata": {
        "id": "s6Cz02ah0SNg"
      },
      "source": [
        "**Classe Conta de Investimento: Faça uma classe contaInvestimento que seja semelhante a classe contaBancaria, com a diferença de que se adicione um atributo taxaJuros. Forneça um construtor que configure tanto o saldo inicial como a taxa de juros. Forneça um método adicioneJuros (sem parâmetro explícito) que adicione juros à conta. Escreva um programa que construa uma poupança com um saldo inicial de R$1000,00 e uma taxa de juros de 10%. Depois aplique o método adicioneJuros() cinco vezes e imprime o saldo resultante.**"
      ]
    },
    {
      "cell_type": "code",
      "metadata": {
        "id": "KcXSuZDi0WBd"
      },
      "source": [
        ""
      ],
      "execution_count": null,
      "outputs": []
    },
    {
      "cell_type": "markdown",
      "metadata": {
        "id": "3hF_r5ow0Wpp"
      },
      "source": [
        "**Classe Funcionário: Implemente a classe Funcionário. Um empregado tem um nome (um string) e um salário(um double). Escreva um construtor com dois parâmetros (nome e salário) e métodos para devolver nome e salário. Escreva um pequeno programa que teste sua classe.**"
      ]
    },
    {
      "cell_type": "code",
      "metadata": {
        "id": "inUgTcRg0aF5"
      },
      "source": [
        ""
      ],
      "execution_count": null,
      "outputs": []
    },
    {
      "cell_type": "markdown",
      "metadata": {
        "id": "spfmau9Y0aih"
      },
      "source": [
        "**Aprimore a classe do exercício anterior para adicionar o método aumentarSalario (porcentualDeAumento) que aumente o salário do funcionário em uma certa porcentagem.**\n",
        "\n",
        "Exemplo de uso:\n",
        "```\n",
        "    harry=funcionário(\"Harry\",25000)\n",
        "    harry.aumentarSalario(10)\n",
        "```\n",
        "\n"
      ]
    },
    {
      "cell_type": "code",
      "metadata": {
        "id": "Syh04OYl0npN"
      },
      "source": [
        ""
      ],
      "execution_count": null,
      "outputs": []
    },
    {
      "cell_type": "markdown",
      "metadata": {
        "id": "faf3UrmR0oc3"
      },
      "source": [
        "**Classe Bichinho Virtual++: Melhore o programa do bichinho virtual, permitindo que o usuário especifique quanto de comida ele fornece ao bichinho e por quanto tempo ele brinca com o bichinho. Faça com que estes valores afetem quão rapidamente os níveis de fome e tédio caem.**"
      ]
    },
    {
      "cell_type": "code",
      "metadata": {
        "id": "UEa6WPbV0qzY"
      },
      "source": [
        ""
      ],
      "execution_count": null,
      "outputs": []
    },
    {
      "cell_type": "markdown",
      "metadata": {
        "id": "vRTpX8Om0rd1"
      },
      "source": [
        "**Crie uma \"porta escondida\" no programa do programa do bichinho virtual que mostre os valores exatos dos atributos do objeto. Consiga isto mostrando o objeto quando uma opção secreta, não listada no menu, for informada na escolha do usuário. Dica: acrescente um método especial str() à classe Bichinho.**"
      ]
    },
    {
      "cell_type": "code",
      "metadata": {
        "id": "gst2bXBf0up-"
      },
      "source": [
        ""
      ],
      "execution_count": null,
      "outputs": []
    },
    {
      "cell_type": "markdown",
      "metadata": {
        "id": "1Rr1f1Gw0vOX"
      },
      "source": [
        "**Crie uma Fazenda de Bichinhos instanciando vários objetos bichinho e mantendo o controle deles através de uma lista. Imite o funcionamento do programa básico, mas ao invés de exigis que o usuário tome conta de um único bichinho, exija que ele tome conta da fazenda inteira. Cada opção do menu deveria permitir que o usuário executasse uma ação para todos os bichinhos (alimentar todos os bichinhos, brincar com todos os bichinhos, ou ouvir a todos os bichinhos). Para tornar o programa mais interessante, dê para cada bichinho um nivel inicial aleatório de fome e tédio.**"
      ]
    },
    {
      "cell_type": "code",
      "metadata": {
        "id": "mQgmewR70ym6"
      },
      "source": [
        ""
      ],
      "execution_count": null,
      "outputs": []
    }
  ]
}